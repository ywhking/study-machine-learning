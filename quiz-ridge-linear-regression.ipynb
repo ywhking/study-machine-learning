{
 "cells": [
  {
   "cell_type": "code",
   "execution_count": 1,
   "id": "6aa2987d-242b-43d9-a9db-257564aa741d",
   "metadata": {},
   "outputs": [],
   "source": [
    "import numpy as np\n",
    "import matplotlib.pyplot as plt"
   ]
  },
  {
   "cell_type": "code",
   "execution_count": 2,
   "id": "5c1e8f13-ba8b-479c-8467-de73678f8c7c",
   "metadata": {},
   "outputs": [],
   "source": [
    "n = 3\n",
    "order = 1\n",
    "lamda = 1\n",
    "\n",
    "#初始化数据集\n",
    "X = np.array([-1,0,1])   # \n",
    "Y = np.array([-0.5,0,1]) # 目标值"
   ]
  },
  {
   "cell_type": "code",
   "execution_count": 3,
   "id": "9cafc915-23bd-4ac5-8012-b8b426b10cf6",
   "metadata": {},
   "outputs": [],
   "source": [
    "def calc_ridge_w(n,m,X,Y,lamda):\n",
    "    fi = np.zeros((n,m)) # \n",
    "    i = 0\n",
    "    for x in X:\n",
    "        for j in range(m):\n",
    "            fi[i][j] = pow(x,j)\n",
    "        i = i + 1\n",
    "    fi_t = fi.transpose()\n",
    "    w = np.dot(np.dot(np.linalg.inv(lamda*np.identity(m) + np.dot(fi_t,fi)),fi_t),Y)  # 应用求系数的公式\n",
    "    return w"
   ]
  },
  {
   "cell_type": "code",
   "execution_count": 4,
   "id": "b8f72c84-8b62-42b8-9eea-cb4cc621ffea",
   "metadata": {},
   "outputs": [
    {
     "name": "stdout",
     "output_type": "stream",
     "text": [
      "[0.125 0.5  ]\n"
     ]
    }
   ],
   "source": [
    "# 采用 close form solution方法求系数 w 的值\n",
    "# 线性方程为 y = w0 + w1*x + w2*x*x + w3*x*x*x + ...\n",
    "m = order + 1\n",
    "w = calc_ridge_w(n,m,X,Y,lamda)\n",
    "print(w)"
   ]
  },
  {
   "cell_type": "code",
   "execution_count": 5,
   "id": "16241e24-e3ec-4683-9b95-e1413be1259c",
   "metadata": {},
   "outputs": [
    {
     "data": {
      "text/plain": [
       "[<matplotlib.lines.Line2D at 0x21cba5712d0>]"
      ]
     },
     "execution_count": 5,
     "metadata": {},
     "output_type": "execute_result"
    },
    {
     "data": {
      "image/png": "[encoded data removed]",
      "text/plain": [
       "<Figure size 640x480 with 1 Axes>"
      ]
     },
     "metadata": {},
     "output_type": "display_data"
    }
   ],
   "source": [
    "#绘制样例数据\n",
    "plt.scatter(X,Y,color='grey')\n",
    "\n",
    "# #绘制拟合线性函数的曲线：y = w0 + w1*x + w2*x*x + w3*x*x*x + ...\n",
    "n1 = 100\n",
    "X = np.linspace(-1,1,n1)  # 沿x轴，在0，1范围内，相同间隔生成n个数据\n",
    "Y_2 = []\n",
    "for x in X:\n",
    "    y = 0\n",
    "    for j in range(m):\n",
    "        y += w[j]*pow(x,j)  \n",
    "    Y_2.append(y) \n",
    "plt.plot(X,Y_2,color='red')"
   ]
  },
  {
   "cell_type": "code",
   "execution_count": null,
   "id": "a4fba350-6cc7-4d14-9e6f-ea6d5c166e08",
   "metadata": {},
   "outputs": [],
   "source": []
  },
  {
   "cell_type": "code",
   "execution_count": null,
   "id": "95a78e1c-5bbc-421d-adfd-70798619e0f3",
   "metadata": {},
   "outputs": [],
   "source": []
  },
  {
   "cell_type": "code",
   "execution_count": null,
   "id": "d5f177bf-8836-477d-b741-6c75e81f2c84",
   "metadata": {},
   "outputs": [],
   "source": []
  }
 ],
 "metadata": {
  "kernelspec": {
   "display_name": "Python 3 (ipykernel)",
   "language": "python",
   "name": "python3"
  },
  "language_info": {
   "codemirror_mode": {
    "name": "ipython",
    "version": 3
   },
   "file_extension": ".py",
   "mimetype": "text/x-python",
   "name": "python",
   "nbconvert_exporter": "python",
   "pygments_lexer": "ipython3",
   "version": "3.11.7"
  }
 },
 "nbformat": 4,
 "nbformat_minor": 5
}
